{
 "cells": [
  {
   "cell_type": "code",
   "execution_count": 3,
   "metadata": {},
   "outputs": [],
   "source": [
    "import numpy as np\n",
    "import tensorflow as tf\n",
    "import pandas as pd\n",
    "import keras\n",
    "from tensorflow.keras import Sequential\n",
    "from keras.layers import Dense"
   ]
  },
  {
   "cell_type": "code",
   "execution_count": 4,
   "metadata": {},
   "outputs": [],
   "source": [
    "dataset = pd.read_csv('Churn_Modelling.csv')"
   ]
  },
  {
   "cell_type": "code",
   "execution_count": 5,
   "metadata": {},
   "outputs": [
    {
     "data": {
      "text/html": [
       "<div>\n",
       "<style scoped>\n",
       "    .dataframe tbody tr th:only-of-type {\n",
       "        vertical-align: middle;\n",
       "    }\n",
       "\n",
       "    .dataframe tbody tr th {\n",
       "        vertical-align: top;\n",
       "    }\n",
       "\n",
       "    .dataframe thead th {\n",
       "        text-align: right;\n",
       "    }\n",
       "</style>\n",
       "<table border=\"1\" class=\"dataframe\">\n",
       "  <thead>\n",
       "    <tr style=\"text-align: right;\">\n",
       "      <th></th>\n",
       "      <th>RowNumber</th>\n",
       "      <th>CustomerId</th>\n",
       "      <th>Surname</th>\n",
       "      <th>CreditScore</th>\n",
       "      <th>Geography</th>\n",
       "      <th>Gender</th>\n",
       "      <th>Age</th>\n",
       "      <th>Tenure</th>\n",
       "      <th>Balance</th>\n",
       "      <th>NumOfProducts</th>\n",
       "      <th>HasCrCard</th>\n",
       "      <th>IsActiveMember</th>\n",
       "      <th>EstimatedSalary</th>\n",
       "      <th>Exited</th>\n",
       "    </tr>\n",
       "  </thead>\n",
       "  <tbody>\n",
       "    <tr>\n",
       "      <th>0</th>\n",
       "      <td>1</td>\n",
       "      <td>15634602</td>\n",
       "      <td>Hargrave</td>\n",
       "      <td>619</td>\n",
       "      <td>France</td>\n",
       "      <td>Female</td>\n",
       "      <td>42</td>\n",
       "      <td>2</td>\n",
       "      <td>0.00</td>\n",
       "      <td>1</td>\n",
       "      <td>1</td>\n",
       "      <td>1</td>\n",
       "      <td>101348.88</td>\n",
       "      <td>1</td>\n",
       "    </tr>\n",
       "    <tr>\n",
       "      <th>1</th>\n",
       "      <td>2</td>\n",
       "      <td>15647311</td>\n",
       "      <td>Hill</td>\n",
       "      <td>608</td>\n",
       "      <td>Spain</td>\n",
       "      <td>Female</td>\n",
       "      <td>41</td>\n",
       "      <td>1</td>\n",
       "      <td>83807.86</td>\n",
       "      <td>1</td>\n",
       "      <td>0</td>\n",
       "      <td>1</td>\n",
       "      <td>112542.58</td>\n",
       "      <td>0</td>\n",
       "    </tr>\n",
       "    <tr>\n",
       "      <th>2</th>\n",
       "      <td>3</td>\n",
       "      <td>15619304</td>\n",
       "      <td>Onio</td>\n",
       "      <td>502</td>\n",
       "      <td>France</td>\n",
       "      <td>Female</td>\n",
       "      <td>42</td>\n",
       "      <td>8</td>\n",
       "      <td>159660.80</td>\n",
       "      <td>3</td>\n",
       "      <td>1</td>\n",
       "      <td>0</td>\n",
       "      <td>113931.57</td>\n",
       "      <td>1</td>\n",
       "    </tr>\n",
       "    <tr>\n",
       "      <th>3</th>\n",
       "      <td>4</td>\n",
       "      <td>15701354</td>\n",
       "      <td>Boni</td>\n",
       "      <td>699</td>\n",
       "      <td>France</td>\n",
       "      <td>Female</td>\n",
       "      <td>39</td>\n",
       "      <td>1</td>\n",
       "      <td>0.00</td>\n",
       "      <td>2</td>\n",
       "      <td>0</td>\n",
       "      <td>0</td>\n",
       "      <td>93826.63</td>\n",
       "      <td>0</td>\n",
       "    </tr>\n",
       "    <tr>\n",
       "      <th>4</th>\n",
       "      <td>5</td>\n",
       "      <td>15737888</td>\n",
       "      <td>Mitchell</td>\n",
       "      <td>850</td>\n",
       "      <td>Spain</td>\n",
       "      <td>Female</td>\n",
       "      <td>43</td>\n",
       "      <td>2</td>\n",
       "      <td>125510.82</td>\n",
       "      <td>1</td>\n",
       "      <td>1</td>\n",
       "      <td>1</td>\n",
       "      <td>79084.10</td>\n",
       "      <td>0</td>\n",
       "    </tr>\n",
       "  </tbody>\n",
       "</table>\n",
       "</div>"
      ],
      "text/plain": [
       "   RowNumber  CustomerId   Surname  CreditScore Geography  Gender  Age  \\\n",
       "0          1    15634602  Hargrave          619    France  Female   42   \n",
       "1          2    15647311      Hill          608     Spain  Female   41   \n",
       "2          3    15619304      Onio          502    France  Female   42   \n",
       "3          4    15701354      Boni          699    France  Female   39   \n",
       "4          5    15737888  Mitchell          850     Spain  Female   43   \n",
       "\n",
       "   Tenure    Balance  NumOfProducts  HasCrCard  IsActiveMember  \\\n",
       "0       2       0.00              1          1               1   \n",
       "1       1   83807.86              1          0               1   \n",
       "2       8  159660.80              3          1               0   \n",
       "3       1       0.00              2          0               0   \n",
       "4       2  125510.82              1          1               1   \n",
       "\n",
       "   EstimatedSalary  Exited  \n",
       "0        101348.88       1  \n",
       "1        112542.58       0  \n",
       "2        113931.57       1  \n",
       "3         93826.63       0  \n",
       "4         79084.10       0  "
      ]
     },
     "execution_count": 5,
     "metadata": {},
     "output_type": "execute_result"
    }
   ],
   "source": [
    "dataset.head()"
   ]
  },
  {
   "cell_type": "code",
   "execution_count": 6,
   "metadata": {},
   "outputs": [],
   "source": [
    "X = dataset.iloc[:, 3:-1].values\n",
    "y = dataset.iloc[:, -1].values"
   ]
  },
  {
   "cell_type": "code",
   "execution_count": 7,
   "metadata": {},
   "outputs": [
    {
     "data": {
      "text/plain": [
       "array([1, 0, 1, ..., 1, 1, 0], dtype=int64)"
      ]
     },
     "execution_count": 7,
     "metadata": {},
     "output_type": "execute_result"
    }
   ],
   "source": [
    "y"
   ]
  },
  {
   "cell_type": "code",
   "execution_count": 8,
   "metadata": {},
   "outputs": [
    {
     "data": {
      "text/plain": [
       "France     5014\n",
       "Germany    2509\n",
       "Spain      2477\n",
       "Name: Geography, dtype: int64"
      ]
     },
     "execution_count": 8,
     "metadata": {},
     "output_type": "execute_result"
    }
   ],
   "source": [
    "dataset['Geography'].value_counts()"
   ]
  },
  {
   "cell_type": "code",
   "execution_count": 10,
   "metadata": {},
   "outputs": [],
   "source": [
    "from sklearn.preprocessing import LabelEncoder, OneHotEncoder"
   ]
  },
  {
   "cell_type": "code",
   "execution_count": 12,
   "metadata": {},
   "outputs": [],
   "source": [
    "le = LabelEncoder()\n",
    "X[:, 2] = le.fit_transform(X[:, 2])"
   ]
  },
  {
   "cell_type": "code",
   "execution_count": 15,
   "metadata": {},
   "outputs": [],
   "source": [
    "from sklearn.compose import ColumnTransformer\n",
    "from sklearn.preprocessing import OneHotEncoder\n",
    "ct = ColumnTransformer(transformers=[('encoder', OneHotEncoder(), [1])], remainder='passthrough')\n",
    "X = np.array(ct.fit_transform(X))"
   ]
  },
  {
   "cell_type": "code",
   "execution_count": 16,
   "metadata": {},
   "outputs": [
    {
     "name": "stderr",
     "output_type": "stream",
     "text": [
      "C:\\Users\\LISHA\\Anaconda3\\lib\\site-packages\\sklearn\\utils\\validation.py:595: DataConversionWarning: Data with input dtype object was converted to float64 by StandardScaler.\n",
      "  warnings.warn(msg, DataConversionWarning)\n",
      "C:\\Users\\LISHA\\Anaconda3\\lib\\site-packages\\sklearn\\utils\\validation.py:595: DataConversionWarning: Data with input dtype object was converted to float64 by StandardScaler.\n",
      "  warnings.warn(msg, DataConversionWarning)\n"
     ]
    }
   ],
   "source": [
    "from sklearn.preprocessing import StandardScaler\n",
    "sc = StandardScaler()\n",
    "X = sc.fit_transform(X)"
   ]
  },
  {
   "cell_type": "code",
   "execution_count": 17,
   "metadata": {},
   "outputs": [
    {
     "data": {
      "text/plain": [
       "array([[ 0.99720391, -0.57873591, -0.57380915, ...,  0.64609167,\n",
       "         0.97024255,  0.02188649],\n",
       "       [-1.00280393, -0.57873591,  1.74273971, ..., -1.54776799,\n",
       "         0.97024255,  0.21653375],\n",
       "       [ 0.99720391, -0.57873591, -0.57380915, ...,  0.64609167,\n",
       "        -1.03067011,  0.2406869 ],\n",
       "       ...,\n",
       "       [ 0.99720391, -0.57873591, -0.57380915, ..., -1.54776799,\n",
       "         0.97024255, -1.00864308],\n",
       "       [-1.00280393,  1.72790383, -0.57380915, ...,  0.64609167,\n",
       "        -1.03067011, -0.12523071],\n",
       "       [ 0.99720391, -0.57873591, -0.57380915, ...,  0.64609167,\n",
       "        -1.03067011, -1.07636976]])"
      ]
     },
     "execution_count": 17,
     "metadata": {},
     "output_type": "execute_result"
    }
   ],
   "source": [
    "X"
   ]
  },
  {
   "cell_type": "code",
   "execution_count": 18,
   "metadata": {},
   "outputs": [],
   "source": [
    "from sklearn.model_selection import train_test_split\n",
    "X_train, X_test, y_train, y_test = train_test_split(X, y, test_size = 0.2, random_state = 0)"
   ]
  },
  {
   "cell_type": "code",
   "execution_count": 19,
   "metadata": {},
   "outputs": [],
   "source": [
    "ann = tf.keras.models.Sequential()"
   ]
  },
  {
   "cell_type": "code",
   "execution_count": 20,
   "metadata": {},
   "outputs": [],
   "source": [
    "ann.add(tf.keras.layers.Dense(units=6, activation='relu'))"
   ]
  },
  {
   "cell_type": "code",
   "execution_count": 21,
   "metadata": {},
   "outputs": [],
   "source": [
    "ann.add(tf.keras.layers.Dense(units=6, activation='relu'))"
   ]
  },
  {
   "cell_type": "code",
   "execution_count": 22,
   "metadata": {},
   "outputs": [],
   "source": [
    "ann.add(tf.keras.layers.Dense(units=1, activation='sigmoid'))"
   ]
  },
  {
   "cell_type": "code",
   "execution_count": 23,
   "metadata": {},
   "outputs": [
    {
     "name": "stdout",
     "output_type": "stream",
     "text": [
      "WARNING:tensorflow:From C:\\Users\\LISHA\\Anaconda3\\lib\\site-packages\\tensorflow\\python\\ops\\resource_variable_ops.py:435: colocate_with (from tensorflow.python.framework.ops) is deprecated and will be removed in a future version.\n",
      "Instructions for updating:\n",
      "Colocations handled automatically by placer.\n"
     ]
    }
   ],
   "source": [
    "ann.compile(optimizer = 'adam', loss = 'binary_crossentropy', metrics = ['accuracy'])"
   ]
  },
  {
   "cell_type": "code",
   "execution_count": 24,
   "metadata": {},
   "outputs": [
    {
     "name": "stdout",
     "output_type": "stream",
     "text": [
      "WARNING:tensorflow:From C:\\Users\\LISHA\\Anaconda3\\lib\\site-packages\\tensorflow\\python\\ops\\math_ops.py:3066: to_int32 (from tensorflow.python.ops.math_ops) is deprecated and will be removed in a future version.\n",
      "Instructions for updating:\n",
      "Use tf.cast instead.\n",
      "Epoch 1/100\n",
      "8000/8000 [==============================] - 0s 61us/sample - loss: 0.6450 - acc: 0.6434\n",
      "Epoch 2/100\n",
      "8000/8000 [==============================] - 0s 32us/sample - loss: 0.5102 - acc: 0.7964\n",
      "Epoch 3/100\n",
      "8000/8000 [==============================] - 0s 36us/sample - loss: 0.4754 - acc: 0.7999\n",
      "Epoch 4/100\n",
      "8000/8000 [==============================] - 0s 33us/sample - loss: 0.4527 - acc: 0.8037\n",
      "Epoch 5/100\n",
      "8000/8000 [==============================] - 0s 33us/sample - loss: 0.4373 - acc: 0.8060\n",
      "Epoch 6/100\n",
      "8000/8000 [==============================] - 0s 33us/sample - loss: 0.4259 - acc: 0.8080\n",
      "Epoch 7/100\n",
      "8000/8000 [==============================] - 0s 36us/sample - loss: 0.4168 - acc: 0.8133\n",
      "Epoch 8/100\n",
      "8000/8000 [==============================] - 1s 73us/sample - loss: 0.4087 - acc: 0.8184\n",
      "Epoch 9/100\n",
      "8000/8000 [==============================] - 1s 73us/sample - loss: 0.4015 - acc: 0.8205\n",
      "Epoch 10/100\n",
      "8000/8000 [==============================] - 1s 68us/sample - loss: 0.3937 - acc: 0.8269\n",
      "Epoch 11/100\n",
      "8000/8000 [==============================] - 1s 72us/sample - loss: 0.3855 - acc: 0.8328\n",
      "Epoch 12/100\n",
      "8000/8000 [==============================] - 1s 68us/sample - loss: 0.3772 - acc: 0.8425\n",
      "Epoch 13/100\n",
      "8000/8000 [==============================] - 0s 59us/sample - loss: 0.3697 - acc: 0.8464\n",
      "Epoch 14/100\n",
      "8000/8000 [==============================] - 0s 33us/sample - loss: 0.3637 - acc: 0.8479\n",
      "Epoch 15/100\n",
      "8000/8000 [==============================] - 0s 31us/sample - loss: 0.3581 - acc: 0.8535\n",
      "Epoch 16/100\n",
      "8000/8000 [==============================] - 0s 33us/sample - loss: 0.3545 - acc: 0.8533\n",
      "Epoch 17/100\n",
      "8000/8000 [==============================] - 0s 36us/sample - loss: 0.3514 - acc: 0.8555\n",
      "Epoch 18/100\n",
      "8000/8000 [==============================] - 0s 34us/sample - loss: 0.3498 - acc: 0.8581\n",
      "Epoch 19/100\n",
      "8000/8000 [==============================] - 0s 34us/sample - loss: 0.3478 - acc: 0.8572\n",
      "Epoch 20/100\n",
      "8000/8000 [==============================] - 0s 34us/sample - loss: 0.3470 - acc: 0.8583\n",
      "Epoch 21/100\n",
      "8000/8000 [==============================] - 0s 39us/sample - loss: 0.3455 - acc: 0.8581\n",
      "Epoch 22/100\n",
      "8000/8000 [==============================] - 0s 30us/sample - loss: 0.3450 - acc: 0.8600\n",
      "Epoch 23/100\n",
      "8000/8000 [==============================] - 0s 31us/sample - loss: 0.3440 - acc: 0.8597\n",
      "Epoch 24/100\n",
      "8000/8000 [==============================] - 0s 61us/sample - loss: 0.3442 - acc: 0.8587\n",
      "Epoch 25/100\n",
      "8000/8000 [==============================] - 1s 70us/sample - loss: 0.3434 - acc: 0.8606\n",
      "Epoch 26/100\n",
      "8000/8000 [==============================] - 1s 74us/sample - loss: 0.3430 - acc: 0.8606\n",
      "Epoch 27/100\n",
      "8000/8000 [==============================] - 1s 69us/sample - loss: 0.3427 - acc: 0.8593\n",
      "Epoch 28/100\n",
      "8000/8000 [==============================] - 1s 74us/sample - loss: 0.3426 - acc: 0.8612\n",
      "Epoch 29/100\n",
      "8000/8000 [==============================] - 1s 70us/sample - loss: 0.3419 - acc: 0.8608\n",
      "Epoch 30/100\n",
      "8000/8000 [==============================] - 1s 82us/sample - loss: 0.3413 - acc: 0.8602\n",
      "Epoch 31/100\n",
      "8000/8000 [==============================] - 1s 73us/sample - loss: 0.3411 - acc: 0.8608\n",
      "Epoch 32/100\n",
      "8000/8000 [==============================] - 1s 72us/sample - loss: 0.3409 - acc: 0.8595\n",
      "Epoch 33/100\n",
      "8000/8000 [==============================] - 1s 68us/sample - loss: 0.3407 - acc: 0.8605\n",
      "Epoch 34/100\n",
      "8000/8000 [==============================] - 1s 72us/sample - loss: 0.3407 - acc: 0.8600\n",
      "Epoch 35/100\n",
      "8000/8000 [==============================] - 1s 68us/sample - loss: 0.3401 - acc: 0.8609\n",
      "Epoch 36/100\n",
      "8000/8000 [==============================] - 1s 71us/sample - loss: 0.3397 - acc: 0.8605\n",
      "Epoch 37/100\n",
      "8000/8000 [==============================] - 1s 68us/sample - loss: 0.3395 - acc: 0.8625\n",
      "Epoch 38/100\n",
      "8000/8000 [==============================] - 1s 72us/sample - loss: 0.3394 - acc: 0.8605\n",
      "Epoch 39/100\n",
      "8000/8000 [==============================] - 1s 69us/sample - loss: 0.3387 - acc: 0.8612\n",
      "Epoch 40/100\n",
      "8000/8000 [==============================] - 1s 76us/sample - loss: 0.3388 - acc: 0.8597\n",
      "Epoch 41/100\n",
      "8000/8000 [==============================] - 1s 68us/sample - loss: 0.3387 - acc: 0.8612\n",
      "Epoch 42/100\n",
      "8000/8000 [==============================] - 1s 73us/sample - loss: 0.3386 - acc: 0.8590\n",
      "Epoch 43/100\n",
      "8000/8000 [==============================] - 1s 70us/sample - loss: 0.3379 - acc: 0.8604\n",
      "Epoch 44/100\n",
      "8000/8000 [==============================] - 1s 73us/sample - loss: 0.3377 - acc: 0.8618\n",
      "Epoch 45/100\n",
      "8000/8000 [==============================] - 1s 70us/sample - loss: 0.3378 - acc: 0.8618\n",
      "Epoch 46/100\n",
      "8000/8000 [==============================] - 1s 71us/sample - loss: 0.3376 - acc: 0.8612\n",
      "Epoch 47/100\n",
      "8000/8000 [==============================] - 1s 70us/sample - loss: 0.3373 - acc: 0.8630\n",
      "Epoch 48/100\n",
      "8000/8000 [==============================] - 1s 73us/sample - loss: 0.3369 - acc: 0.8624\n",
      "Epoch 49/100\n",
      "8000/8000 [==============================] - 1s 76us/sample - loss: 0.3367 - acc: 0.8619\n",
      "Epoch 50/100\n",
      "8000/8000 [==============================] - 1s 75us/sample - loss: 0.3360 - acc: 0.8611\n",
      "Epoch 51/100\n",
      "8000/8000 [==============================] - 1s 80us/sample - loss: 0.3366 - acc: 0.8606\n",
      "Epoch 52/100\n",
      "8000/8000 [==============================] - 1s 71us/sample - loss: 0.3360 - acc: 0.8631\n",
      "Epoch 53/100\n",
      "8000/8000 [==============================] - 1s 74us/sample - loss: 0.3360 - acc: 0.8640\n",
      "Epoch 54/100\n",
      "8000/8000 [==============================] - 1s 69us/sample - loss: 0.3358 - acc: 0.8620\n",
      "Epoch 55/100\n",
      "8000/8000 [==============================] - 1s 73us/sample - loss: 0.3354 - acc: 0.8636\n",
      "Epoch 56/100\n",
      "8000/8000 [==============================] - 1s 70us/sample - loss: 0.3348 - acc: 0.8621\n",
      "Epoch 57/100\n",
      "8000/8000 [==============================] - 1s 73us/sample - loss: 0.3349 - acc: 0.8636\n",
      "Epoch 58/100\n",
      "8000/8000 [==============================] - 1s 69us/sample - loss: 0.3344 - acc: 0.8630\n",
      "Epoch 59/100\n",
      "8000/8000 [==============================] - 1s 72us/sample - loss: 0.3348 - acc: 0.8637\n",
      "Epoch 60/100\n",
      "8000/8000 [==============================] - 1s 68us/sample - loss: 0.3346 - acc: 0.8643\n",
      "Epoch 61/100\n",
      "8000/8000 [==============================] - 1s 71us/sample - loss: 0.3343 - acc: 0.8640\n",
      "Epoch 62/100\n",
      "8000/8000 [==============================] - 1s 70us/sample - loss: 0.3338 - acc: 0.8645\n",
      "Epoch 63/100\n",
      "8000/8000 [==============================] - 1s 77us/sample - loss: 0.3334 - acc: 0.8649\n",
      "Epoch 64/100\n",
      "8000/8000 [==============================] - 1s 74us/sample - loss: 0.3334 - acc: 0.8651\n",
      "Epoch 65/100\n",
      "8000/8000 [==============================] - 1s 77us/sample - loss: 0.3336 - acc: 0.8641\n",
      "Epoch 66/100\n",
      "8000/8000 [==============================] - 1s 75us/sample - loss: 0.3336 - acc: 0.8649\n",
      "Epoch 67/100\n",
      "8000/8000 [==============================] - 1s 75us/sample - loss: 0.3328 - acc: 0.8635\n",
      "Epoch 68/100\n",
      "8000/8000 [==============================] - 1s 76us/sample - loss: 0.3324 - acc: 0.8633\n",
      "Epoch 69/100\n",
      "8000/8000 [==============================] - 1s 73us/sample - loss: 0.3325 - acc: 0.8648\n",
      "Epoch 70/100\n",
      "8000/8000 [==============================] - 1s 75us/sample - loss: 0.3328 - acc: 0.8626\n",
      "Epoch 71/100\n",
      "8000/8000 [==============================] - 1s 72us/sample - loss: 0.3320 - acc: 0.8650\n",
      "Epoch 72/100\n",
      "8000/8000 [==============================] - 1s 78us/sample - loss: 0.3328 - acc: 0.8635\n",
      "Epoch 73/100\n",
      "8000/8000 [==============================] - 1s 74us/sample - loss: 0.3318 - acc: 0.8636\n",
      "Epoch 74/100\n",
      "8000/8000 [==============================] - 1s 76us/sample - loss: 0.3317 - acc: 0.8646\n",
      "Epoch 75/100\n",
      "8000/8000 [==============================] - 1s 74us/sample - loss: 0.3316 - acc: 0.8643\n",
      "Epoch 76/100\n",
      "8000/8000 [==============================] - 1s 81us/sample - loss: 0.3313 - acc: 0.8652\n",
      "Epoch 77/100\n",
      "8000/8000 [==============================] - 1s 84us/sample - loss: 0.3314 - acc: 0.8646\n",
      "Epoch 78/100\n"
     ]
    },
    {
     "name": "stdout",
     "output_type": "stream",
     "text": [
      "8000/8000 [==============================] - 1s 79us/sample - loss: 0.3309 - acc: 0.8650\n",
      "Epoch 79/100\n",
      "8000/8000 [==============================] - 1s 75us/sample - loss: 0.3313 - acc: 0.8644\n",
      "Epoch 80/100\n",
      "8000/8000 [==============================] - 1s 71us/sample - loss: 0.3304 - acc: 0.8643\n",
      "Epoch 81/100\n",
      "8000/8000 [==============================] - 1s 73us/sample - loss: 0.3307 - acc: 0.8639\n",
      "Epoch 82/100\n",
      "8000/8000 [==============================] - 1s 70us/sample - loss: 0.3302 - acc: 0.8655\n",
      "Epoch 83/100\n",
      "8000/8000 [==============================] - 1s 71us/sample - loss: 0.3302 - acc: 0.8643\n",
      "Epoch 84/100\n",
      "8000/8000 [==============================] - 1s 67us/sample - loss: 0.3296 - acc: 0.8650\n",
      "Epoch 85/100\n",
      "8000/8000 [==============================] - 1s 69us/sample - loss: 0.3296 - acc: 0.8639\n",
      "Epoch 86/100\n",
      "8000/8000 [==============================] - 1s 68us/sample - loss: 0.3298 - acc: 0.8658\n",
      "Epoch 87/100\n",
      "8000/8000 [==============================] - 1s 71us/sample - loss: 0.3296 - acc: 0.8651\n",
      "Epoch 88/100\n",
      "8000/8000 [==============================] - 1s 70us/sample - loss: 0.3294 - acc: 0.8654\n",
      "Epoch 89/100\n",
      "8000/8000 [==============================] - 1s 70us/sample - loss: 0.3293 - acc: 0.8648\n",
      "Epoch 90/100\n",
      "8000/8000 [==============================] - 1s 68us/sample - loss: 0.3290 - acc: 0.8666\n",
      "Epoch 91/100\n",
      "8000/8000 [==============================] - 1s 69us/sample - loss: 0.3284 - acc: 0.8640\n",
      "Epoch 92/100\n",
      "8000/8000 [==============================] - 1s 69us/sample - loss: 0.3285 - acc: 0.8660\n",
      "Epoch 93/100\n",
      "8000/8000 [==============================] - 1s 69us/sample - loss: 0.3282 - acc: 0.8656\n",
      "Epoch 94/100\n",
      "8000/8000 [==============================] - 1s 68us/sample - loss: 0.3279 - acc: 0.8660\n",
      "Epoch 95/100\n",
      "8000/8000 [==============================] - 1s 68us/sample - loss: 0.3283 - acc: 0.8646\n",
      "Epoch 96/100\n",
      "8000/8000 [==============================] - 1s 68us/sample - loss: 0.3274 - acc: 0.8673\n",
      "Epoch 97/100\n",
      "8000/8000 [==============================] - 1s 69us/sample - loss: 0.3268 - acc: 0.8665\n",
      "Epoch 98/100\n",
      "8000/8000 [==============================] - 1s 69us/sample - loss: 0.3270 - acc: 0.8668\n",
      "Epoch 99/100\n",
      "8000/8000 [==============================] - 1s 68us/sample - loss: 0.3266 - acc: 0.8656\n",
      "Epoch 100/100\n",
      "8000/8000 [==============================] - 1s 68us/sample - loss: 0.3265 - acc: 0.8681\n"
     ]
    },
    {
     "data": {
      "text/plain": [
       "<tensorflow.python.keras.callbacks.History at 0x208886d4ac8>"
      ]
     },
     "execution_count": 24,
     "metadata": {},
     "output_type": "execute_result"
    }
   ],
   "source": [
    "ann.fit(X_train, y_train, batch_size = 32, epochs = 100)"
   ]
  },
  {
   "cell_type": "code",
   "execution_count": 25,
   "metadata": {},
   "outputs": [
    {
     "name": "stdout",
     "output_type": "stream",
     "text": [
      "[[0 0]\n",
      " [0 1]\n",
      " [0 0]\n",
      " ...\n",
      " [0 0]\n",
      " [0 0]\n",
      " [0 0]]\n"
     ]
    }
   ],
   "source": [
    "y_pred = ann.predict(X_test)\n",
    "y_pred = (y_pred > 0.5)\n",
    "print(np.concatenate((y_pred.reshape(len(y_pred),1), y_test.reshape(len(y_test),1)),1))"
   ]
  },
  {
   "cell_type": "code",
   "execution_count": 26,
   "metadata": {},
   "outputs": [
    {
     "name": "stdout",
     "output_type": "stream",
     "text": [
      "[[1511   84]\n",
      " [ 188  217]]\n"
     ]
    }
   ],
   "source": [
    "from sklearn.metrics import confusion_matrix\n",
    "cm = confusion_matrix(y_test, y_pred)\n",
    "print(cm)"
   ]
  },
  {
   "cell_type": "code",
   "execution_count": null,
   "metadata": {},
   "outputs": [],
   "source": []
  }
 ],
 "metadata": {
  "kernelspec": {
   "display_name": "Python 3",
   "language": "python",
   "name": "python3"
  },
  "language_info": {
   "codemirror_mode": {
    "name": "ipython",
    "version": 3
   },
   "file_extension": ".py",
   "mimetype": "text/x-python",
   "name": "python",
   "nbconvert_exporter": "python",
   "pygments_lexer": "ipython3",
   "version": "3.7.1"
  }
 },
 "nbformat": 4,
 "nbformat_minor": 2
}
